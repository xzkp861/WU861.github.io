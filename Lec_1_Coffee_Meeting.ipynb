{
  "nbformat": 4,
  "nbformat_minor": 0,
  "metadata": {
    "colab": {
      "provenance": [],
      "include_colab_link": true
    },
    "kernelspec": {
      "name": "python3",
      "display_name": "Python 3"
    },
    "language_info": {
      "name": "python"
    }
  },
  "cells": [
    {
      "cell_type": "markdown",
      "metadata": {
        "id": "view-in-github",
        "colab_type": "text"
      },
      "source": [
        "<a href=\"https://colab.research.google.com/github/xzkp861/WU861.github.io/blob/master/Lec_1_Coffee_Meeting.ipynb\" target=\"_parent\"><img src=\"https://colab.research.google.com/assets/colab-badge.svg\" alt=\"Open In Colab\"/></a>"
      ]
    },
    {
      "cell_type": "markdown",
      "source": [
        "# Introductory exercise: Coffee Meeting"
      ],
      "metadata": {
        "id": "z25LF7Xz6m_5"
      }
    },
    {
      "cell_type": "markdown",
      "source": [
        "# Before Starting: Make a copy of the Notebook to your own drive!\n",
        "\n",
        "This instruction applies to all future in-class exercises and homeworks.\n",
        "\n",
        "Directly editing in this notebook will not allow you to save the changes. You need to make a copy of it and edit it on your own drive.\n",
        "\n",
        "1. Click \"File\" in the menu bar (right below the title of this Notebook, Lec-1-Coffee-Meeting.ipynb)\n",
        "2. Click \"Save a copy in Drive,\" save it to the folder of your choice within your Google Drive.\n",
        "3. Rename the file name to ```{original_title}-FirstnameLastname.ipynb``` (e.g., \"Lec-1-Coffee-Meeting-RobinNa.ipynb\")\n",
        "\n",
        "You can now start saving all the edits you have made."
      ],
      "metadata": {
        "id": "SF6n3vDc09Wv"
      }
    },
    {
      "cell_type": "markdown",
      "source": [
        "# Disable Generative AI Feature\n",
        "\n",
        "For pedagogical purposes, we ask you to disable built-in generative AI features.\n",
        "\n",
        "1. Click \"Tools\" on the menu bar above.\n",
        "2. Click \"Settings\"\n",
        "3. Go to \"AI Assistance\"\n",
        "4. Uncheck \"Show AI-powered inline completions\"\n",
        "5. Check \"Hide generative AI features\"\n",
        "\n"
      ],
      "metadata": {
        "id": "I4zarAg402Do"
      }
    },
    {
      "cell_type": "markdown",
      "source": [
        "# Exercise notes:\n",
        "This is Python code. Don’t worry about the fact that we haven’t taught you anything about Python or code yet. Just take a minute of two to read through this code, line by line, and see if you can figure out what’s going on at a high level.\n",
        "\n",
        "Part of the skill of coding is being able to read other people’s code that you haven’t seen and figure out why it’s doing what it’s doing. So, we need to start working out that muscle now.\n",
        "\n",
        "### Making the code your own\n",
        "1. Oops, we spelled Morgan Freeman's name wrong. Can you fix it for us?\n",
        "2. Add one friend to the list and one coffee shop. Did you get an error?\n",
        "3. Have it print out two random people instead of just one."
      ],
      "metadata": {
        "id": "ao05y9uk0yxx"
      }
    },
    {
      "cell_type": "code",
      "source": [
        "import random\n",
        "\n",
        "coffee_shops = [\"Blue Bottle\", \"Starbucks\", \"Tatte Bakery & Cafe\", \"Vester\", \"A4 Cafe\"]\n",
        "people = [\"Abdullah\", \"Mohammed\", \"Sarah\", \"John M. Doe\", \"Morgn Freedman\"]\n",
        "\n",
        "random_coffe_shop = random.choice(coffee_shops)\n",
        "random_person = random.choice(people)\n",
        "\n",
        "print(f\"How about you go to {random_coffe_shop} with {random_person}?\")"
      ],
      "metadata": {
        "id": "38dRP50461VA"
      },
      "execution_count": null,
      "outputs": []
    },
    {
      "cell_type": "markdown",
      "source": [
        "# Generative AI Usage and Acknowledgement Format\n",
        "\n",
        "For this assignment, you're discouraged from using generative AI.\n",
        "\n",
        "If you choose to use genAI's assistance, you must include **all** of the following.\n",
        "\n",
        "1. Describe your attempts before using the AI, part that you were stuck, and how you used the AI for assistance.\n",
        "\n",
        "2. Attach the full transcript of the prompt and the AI's response by sharing a **public link** (accessible in private/incognito window) to it. Most genAI services (e.g., ChatGPT) offer sharing your transcript this way. If the link is unavailable, attach screenshots."
      ],
      "metadata": {
        "id": "XTof0nLyPpad"
      }
    },
    {
      "cell_type": "markdown",
      "source": [
        "# Saving and sharing your Notebook\n",
        "\n",
        "1. Click \"Share\" in the top right\n",
        "2. Go to \"General access\" and select **\"Anyone with the link.\"** This ensures that we have access to your Notebook and disabling this feature will prevent us from grading your homework! Assignment submitted as private document will be marked as late.\n",
        "3. Right next to it, select the role to \"Editor\" (instead of \"Viewer\" or \"Commenter\")\n",
        "4. Click \"Copy link\" and you can simply paste this link on Canvas!\n",
        "5. If you'd like to test whether your link is working properly, paste your link to a new private/incognito browser window. If you can see the content this way, it should be visible to us!"
      ],
      "metadata": {
        "id": "MPGswy4J3kxU"
      }
    }
  ]
}